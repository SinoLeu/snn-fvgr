{
 "cells": [
  {
   "cell_type": "code",
   "execution_count": 1,
   "metadata": {},
   "outputs": [
    {
     "name": "stderr",
     "output_type": "stream",
     "text": [
      "/home/h666/.conda/envs/snn/lib/python3.8/site-packages/tqdm/auto.py:21: TqdmWarning: IProgress not found. Please update jupyter and ipywidgets. See https://ipywidgets.readthedocs.io/en/stable/user_install.html\n",
      "  from .autonotebook import tqdm as notebook_tqdm\n"
     ]
    }
   ],
   "source": [
    "import torchvision.models as models\n",
    "from torchvision.models.feature_extraction import get_graph_node_names\n",
    "from torchvision.models.feature_extraction import create_feature_extractor\n",
    "import timm\n",
    "from models.pim_module import FPN, WeaklySelector, GCNCombiner,SharedPluginMoodel\n",
    "import torch"
   ]
  },
  {
   "cell_type": "code",
   "execution_count": 2,
   "metadata": {},
   "outputs": [],
   "source": [
    "# 定义参数\n",
    "return_nodes = {\n",
    "   'layer1.2.act3': 'layer1',\n",
    "    'layer2.3.act3': 'layer2',\n",
    "    'layer3.5.act3': 'layer3',\n",
    "    'layer4.2.act3': 'layer4',\n",
    "}\n",
    "img_size = 224\n",
    "num_classes = 10\n",
    "num_selects = {'layer1': 32, 'layer2': 32, 'layer3': 32, 'layer4': 32}\n",
    "fpn_size = 512\n",
    "comb_proj_size = 512\n",
    "\n",
    "backbone1 = timm.create_model('resnet50', pretrained=False, num_classes=num_classes)\n",
    "backbone2 = timm.create_model('resnet50', pretrained=False, num_classes=num_classes)"
   ]
  },
  {
   "cell_type": "code",
   "execution_count": 3,
   "metadata": {},
   "outputs": [],
   "source": [
    "# get_graph_node_names(backbone1)[0]"
   ]
  },
  {
   "cell_type": "code",
   "execution_count": 3,
   "metadata": {},
   "outputs": [],
   "source": [
    "backbone11 = create_feature_extractor(backbone1, return_nodes=return_nodes)\n",
    "rand_in = torch.randn(1, 3, img_size, img_size)\n",
    "outs = backbone11(rand_in)\n"
   ]
  },
  {
   "cell_type": "code",
   "execution_count": 4,
   "metadata": {},
   "outputs": [],
   "source": [
    "# 创建共享的插件模块\n",
    "shared_fpn = FPN(\n",
    "    outs,\n",
    "    fpn_size, proj_type=\"Conv\", upsample_type=\"Bilinear\"\n",
    ")\n",
    "shared_selector = WeaklySelector(\n",
    "    outs,\n",
    "    num_classes, num_selects, fpn_size\n",
    ")\n",
    "shared_combiner = GCNCombiner(\n",
    "    total_num_selects=sum(num_selects.values()),\n",
    "    num_classes=num_classes,\n",
    "    fpn_size=fpn_size\n",
    ")"
   ]
  },
  {
   "cell_type": "code",
   "execution_count": 5,
   "metadata": {},
   "outputs": [],
   "source": [
    "# 创建两个 PluginMoodel 实例，共享插件模块\n",
    "net1 = SharedPluginMoodel(\n",
    "    backbone=backbone1,\n",
    "    return_nodes=return_nodes,\n",
    "    img_size=img_size,\n",
    "    use_fpn=True,\n",
    "    fpn_size=fpn_size,\n",
    "    proj_type=\"Conv\",\n",
    "    upsample_type=\"Bilinear\",\n",
    "    use_selection=True,\n",
    "    num_classes=num_classes,\n",
    "    num_selects=num_selects,\n",
    "    use_combiner=True,\n",
    "    comb_proj_size=comb_proj_size,\n",
    "    fpn=shared_fpn,          # 传入共享的 FPN\n",
    "    selector=shared_selector, # 传入共享的 Selector\n",
    "    combiner=shared_combiner  # 传入共享的 Combiner\n",
    ")\n",
    "\n",
    "net2 = SharedPluginMoodel(\n",
    "    backbone=backbone2,\n",
    "    return_nodes=return_nodes,\n",
    "    img_size=img_size,\n",
    "    use_fpn=True,\n",
    "    fpn_size=fpn_size,\n",
    "    proj_type=\"Conv\",\n",
    "    upsample_type=\"Bilinear\",\n",
    "    use_selection=True,\n",
    "    num_classes=num_classes,\n",
    "    num_selects=num_selects,\n",
    "    use_combiner=True,\n",
    "    comb_proj_size=comb_proj_size,\n",
    "    fpn=shared_fpn,          # 传入共享的 FPN\n",
    "    selector=shared_selector, # 传入共享的 Selector\n",
    "    combiner=shared_combiner  # 传入共享的 Combiner\n",
    ")"
   ]
  },
  {
   "cell_type": "code",
   "execution_count": 6,
   "metadata": {},
   "outputs": [],
   "source": [
    "rand_inp = torch.randn(1, 3, 224, 224)\n",
    "outs1 = net1(rand_inp)"
   ]
  },
  {
   "cell_type": "code",
   "execution_count": 7,
   "metadata": {},
   "outputs": [
    {
     "data": {
      "text/plain": [
       "dict_keys(['layer1', 'layer2', 'layer3', 'layer4', 'select_layer1', 'drop_layer1', 'select_layer2', 'drop_layer2', 'select_layer3', 'drop_layer3', 'select_layer4', 'drop_layer4', 'comb_outs'])"
      ]
     },
     "execution_count": 7,
     "metadata": {},
     "output_type": "execute_result"
    }
   ],
   "source": [
    "outs1.keys()"
   ]
  },
  {
   "cell_type": "code",
   "execution_count": 16,
   "metadata": {},
   "outputs": [
    {
     "data": {
      "text/plain": [
       "torch.Size([1, 10])"
      ]
     },
     "execution_count": 16,
     "metadata": {},
     "output_type": "execute_result"
    }
   ],
   "source": [
    "outs1['comb_outs'].shape"
   ]
  },
  {
   "cell_type": "code",
   "execution_count": 18,
   "metadata": {},
   "outputs": [],
   "source": [
    "# # 创建三个张量\n",
    "# tensor1 = torch.randn(1, 20, 10)   # 形状 (1, 20, 10)\n",
    "# tensor2 = torch.randn(1, 100, 10)  # 形状 (1, 100, 10)\n",
    "# tensor3 = torch.randn(1, 120, 10)  # 形状 (1, 120, 10)\n",
    "\n",
    "# 在第二个维度（dim=1）上合并\n",
    "result = torch.cat([outs1[name].unsqueeze(1) if outs1[name].dim() == 2 else outs1[name] for name in outs1], dim=1)"
   ]
  },
  {
   "cell_type": "code",
   "execution_count": 19,
   "metadata": {},
   "outputs": [
    {
     "data": {
      "text/plain": [
       "torch.Size([1, 10])"
      ]
     },
     "execution_count": 19,
     "metadata": {},
     "output_type": "execute_result"
    }
   ],
   "source": [
    "result[:,:5,:].mean(1).shape"
   ]
  },
  {
   "cell_type": "code",
   "execution_count": null,
   "metadata": {},
   "outputs": [],
   "source": []
  },
  {
   "cell_type": "code",
   "execution_count": null,
   "metadata": {},
   "outputs": [],
   "source": []
  },
  {
   "cell_type": "code",
   "execution_count": null,
   "metadata": {},
   "outputs": [],
   "source": []
  },
  {
   "cell_type": "code",
   "execution_count": 8,
   "metadata": {},
   "outputs": [],
   "source": [
    "outs2 = net2(rand_inp)"
   ]
  },
  {
   "cell_type": "code",
   "execution_count": null,
   "metadata": {},
   "outputs": [
    {
     "data": {
      "text/plain": [
       "dict_keys(['layer1', 'layer2', 'layer3', 'layer4', 'select_layer1', 'drop_layer1', 'select_layer2', 'drop_layer2', 'select_layer3', 'drop_layer3', 'select_layer4', 'drop_layer4', 'comb_outs'])"
      ]
     },
     "execution_count": 10,
     "metadata": {},
     "output_type": "execute_result"
    }
   ],
   "source": [
    "outs2.keys()"
   ]
  },
  {
   "cell_type": "code",
   "execution_count": 11,
   "metadata": {},
   "outputs": [
    {
     "data": {
      "text/plain": [
       "tensor([[[ 0.3097, -0.0814, -0.4883,  ..., -0.8681,  1.8043, -0.3105],\n",
       "         [-0.5980, -0.2696,  0.6486,  ..., -0.1383,  0.8112, -1.0788],\n",
       "         [ 0.0657, -0.7937, -0.5046,  ..., -0.0362,  1.5001, -0.8177],\n",
       "         ...,\n",
       "         [-0.0561, -0.3114, -0.4861,  ...,  0.1306,  0.3294, -0.2948],\n",
       "         [-0.1141, -0.2894, -0.2055,  ..., -0.0591,  0.4489, -0.0492],\n",
       "         [-0.2455,  0.0032, -0.1823,  ..., -0.6737,  0.2210, -0.7378]]],\n",
       "       grad_fn=<StackBackward0>)"
      ]
     },
     "execution_count": 11,
     "metadata": {},
     "output_type": "execute_result"
    }
   ],
   "source": [
    "outs2['select_layer1']"
   ]
  },
  {
   "cell_type": "code",
   "execution_count": null,
   "metadata": {},
   "outputs": [],
   "source": []
  }
 ],
 "metadata": {
  "kernelspec": {
   "display_name": "Python 3",
   "language": "python",
   "name": "python3"
  },
  "language_info": {
   "codemirror_mode": {
    "name": "ipython",
    "version": 3
   },
   "file_extension": ".py",
   "mimetype": "text/x-python",
   "name": "python",
   "nbconvert_exporter": "python",
   "pygments_lexer": "ipython3",
   "version": "3.8.20"
  }
 },
 "nbformat": 4,
 "nbformat_minor": 2
}
