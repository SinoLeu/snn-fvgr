{
 "cells": [
  {
   "cell_type": "code",
   "execution_count": 1,
   "metadata": {},
   "outputs": [
    {
     "name": "stderr",
     "output_type": "stream",
     "text": [
      "/home/h666/.conda/envs/snn/lib/python3.8/site-packages/tqdm/auto.py:21: TqdmWarning: IProgress not found. Please update jupyter and ipywidgets. See https://ipywidgets.readthedocs.io/en/stable/user_install.html\n",
      "  from .autonotebook import tqdm as notebook_tqdm\n"
     ]
    }
   ],
   "source": [
    "import torchvision.models as models\n",
    "from torchvision.models.feature_extraction import get_graph_node_names\n",
    "from torchvision.models.feature_extraction import create_feature_extractor\n",
    "import timm\n",
    "from models.pim_module import FPN, WeaklySelector, GCNCombiner,SharedPluginMoodel\n",
    "import torch"
   ]
  },
  {
   "cell_type": "code",
   "execution_count": 2,
   "metadata": {},
   "outputs": [],
   "source": [
    "# 定义参数\n",
    "return_nodes = {\n",
    "   'layer1.2.act3': 'layer1',\n",
    "    'layer2.3.act3': 'layer2',\n",
    "    'layer3.5.act3': 'layer3',\n",
    "    'layer4.2.act3': 'layer4',\n",
    "}\n",
    "img_size = 224\n",
    "num_classes = 10\n",
    "num_selects = {'layer1': 2048, 'layer2': 512, 'layer3': 128, 'layer4': 32}\n",
    "fpn_size = 256\n",
    "comb_proj_size = 512\n",
    "\n",
    "backbone1 = timm.create_model('resnet50', pretrained=False, num_classes=num_classes)\n",
    "backbone2 = timm.create_model('resnet50', pretrained=False, num_classes=num_classes)"
   ]
  },
  {
   "cell_type": "code",
   "execution_count": 3,
   "metadata": {},
   "outputs": [],
   "source": [
    "# get_graph_node_names(backbone1)[0]"
   ]
  },
  {
   "cell_type": "code",
   "execution_count": 4,
   "metadata": {},
   "outputs": [],
   "source": [
    "backbone1 = create_feature_extractor(backbone1, return_nodes=return_nodes)\n",
    "rand_in = torch.randn(1, 3, img_size, img_size)\n",
    "outs = backbone1(rand_in)\n"
   ]
  },
  {
   "cell_type": "code",
   "execution_count": 5,
   "metadata": {},
   "outputs": [],
   "source": [
    "# 创建共享的插件模块\n",
    "shared_fpn = FPN(\n",
    "    outs,\n",
    "    fpn_size, proj_type=\"Conv\", upsample_type=\"Bilinear\"\n",
    ")\n",
    "shared_selector = WeaklySelector(\n",
    "    outs,\n",
    "    num_classes, num_selects, fpn_size\n",
    ")\n",
    "shared_combiner = GCNCombiner(\n",
    "    total_num_selects=sum(num_selects.values()),\n",
    "    num_classes=num_classes,\n",
    "    fpn_size=fpn_size\n",
    ")"
   ]
  },
  {
   "cell_type": "code",
   "execution_count": 6,
   "metadata": {},
   "outputs": [],
   "source": [
    "# 创建两个 PluginMoodel 实例，共享插件模块\n",
    "net1 = SharedPluginMoodel(\n",
    "    backbone=backbone1,\n",
    "    return_nodes=return_nodes,\n",
    "    img_size=img_size,\n",
    "    use_fpn=True,\n",
    "    fpn_size=fpn_size,\n",
    "    proj_type=\"Conv\",\n",
    "    upsample_type=\"Bilinear\",\n",
    "    use_selection=True,\n",
    "    num_classes=num_classes,\n",
    "    num_selects=num_selects,\n",
    "    use_combiner=True,\n",
    "    comb_proj_size=comb_proj_size,\n",
    "    fpn=shared_fpn,          # 传入共享的 FPN\n",
    "    selector=shared_selector, # 传入共享的 Selector\n",
    "    combiner=shared_combiner  # 传入共享的 Combiner\n",
    ")\n",
    "\n",
    "net2 = SharedPluginMoodel(\n",
    "    backbone=backbone2,\n",
    "    return_nodes=return_nodes,\n",
    "    img_size=img_size,\n",
    "    use_fpn=True,\n",
    "    fpn_size=fpn_size,\n",
    "    proj_type=\"Conv\",\n",
    "    upsample_type=\"Bilinear\",\n",
    "    use_selection=True,\n",
    "    num_classes=num_classes,\n",
    "    num_selects=num_selects,\n",
    "    use_combiner=True,\n",
    "    comb_proj_size=comb_proj_size,\n",
    "    fpn=shared_fpn,          # 传入共享的 FPN\n",
    "    selector=shared_selector, # 传入共享的 Selector\n",
    "    combiner=shared_combiner  # 传入共享的 Combiner\n",
    ")"
   ]
  },
  {
   "cell_type": "code",
   "execution_count": 7,
   "metadata": {},
   "outputs": [],
   "source": [
    "rand_inp = torch.randn(1, 3, 224, 224)\n",
    "outs1 = net1(rand_inp)"
   ]
  },
  {
   "cell_type": "code",
   "execution_count": 8,
   "metadata": {},
   "outputs": [
    {
     "data": {
      "text/plain": [
       "dict_keys(['layer1', 'layer2', 'layer3', 'layer4', 'select_layer1', 'drop_layer1', 'select_layer2', 'drop_layer2', 'select_layer3', 'drop_layer3', 'select_layer4', 'drop_layer4', 'comb_outs'])"
      ]
     },
     "execution_count": 8,
     "metadata": {},
     "output_type": "execute_result"
    }
   ],
   "source": [
    "outs1.keys()"
   ]
  },
  {
   "cell_type": "code",
   "execution_count": 9,
   "metadata": {},
   "outputs": [],
   "source": [
    "outs2 = net2(rand_inp)"
   ]
  },
  {
   "cell_type": "code",
   "execution_count": 10,
   "metadata": {},
   "outputs": [
    {
     "data": {
      "text/plain": [
       "dict_keys(['layer1', 'layer2', 'layer3', 'layer4', 'select_layer1', 'drop_layer1', 'select_layer2', 'drop_layer2', 'select_layer3', 'drop_layer3', 'select_layer4', 'drop_layer4', 'comb_outs'])"
      ]
     },
     "execution_count": 10,
     "metadata": {},
     "output_type": "execute_result"
    }
   ],
   "source": [
    "outs2.keys()"
   ]
  },
  {
   "cell_type": "code",
   "execution_count": null,
   "metadata": {},
   "outputs": [],
   "source": []
  }
 ],
 "metadata": {
  "kernelspec": {
   "display_name": "snn",
   "language": "python",
   "name": "python3"
  },
  "language_info": {
   "codemirror_mode": {
    "name": "ipython",
    "version": 3
   },
   "file_extension": ".py",
   "mimetype": "text/x-python",
   "name": "python",
   "nbconvert_exporter": "python",
   "pygments_lexer": "ipython3",
   "version": "3.8.20"
  }
 },
 "nbformat": 4,
 "nbformat_minor": 2
}
